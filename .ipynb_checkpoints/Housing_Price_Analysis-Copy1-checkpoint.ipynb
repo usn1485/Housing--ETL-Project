{
 "cells": [
  {
   "cell_type": "code",
   "execution_count": 56,
   "metadata": {},
   "outputs": [],
   "source": [
    "from splinter import Browser\n",
    "from splinter.exceptions import ElementDoesNotExist\n",
    "from bs4 import BeautifulSoup"
   ]
  },
  {
   "cell_type": "code",
   "execution_count": 57,
   "metadata": {},
   "outputs": [],
   "source": [
    "executable_path = {'executable_path': 'chromedriver.exe'}\n",
    "browser = Browser('chrome', **executable_path, headless=False)"
   ]
  },
  {
   "cell_type": "code",
   "execution_count": 58,
   "metadata": {},
   "outputs": [],
   "source": [
    "#url=\"https://www.niche.com/k12/search/best-school-districts/m/st-louis-metro-area/\"\n",
    "#https://www.zillow.com/homes/St-Charles-MO_rb/\n",
    "#url=\"https://www.zillow.com/homes/Chesterfield-MO_rb/\"\n",
    "url=\"https://www.realtor.com/realestateandhomes-search/Chesterfield_MO\"\n",
    "browser.visit(url)"
   ]
  },
  {
   "cell_type": "code",
   "execution_count": null,
   "metadata": {},
   "outputs": [],
   "source": []
  },
  {
   "cell_type": "code",
   "execution_count": 1,
   "metadata": {},
   "outputs": [
    {
     "ename": "NameError",
     "evalue": "name 'browser' is not defined",
     "output_type": "error",
     "traceback": [
      "\u001b[1;31m---------------------------------------------------------------------------\u001b[0m",
      "\u001b[1;31mNameError\u001b[0m                                 Traceback (most recent call last)",
      "\u001b[1;32m<ipython-input-1-6a7b194a98e3>\u001b[0m in \u001b[0;36m<module>\u001b[1;34m\u001b[0m\n\u001b[1;32m----> 1\u001b[1;33m \u001b[0mhtml\u001b[0m \u001b[1;33m=\u001b[0m \u001b[0mbrowser\u001b[0m\u001b[1;33m.\u001b[0m\u001b[0mhtml\u001b[0m\u001b[1;33m\u001b[0m\u001b[1;33m\u001b[0m\u001b[0m\n\u001b[0m\u001b[0;32m      2\u001b[0m \u001b[0msoup\u001b[0m \u001b[1;33m=\u001b[0m \u001b[0mBeautifulSoup\u001b[0m\u001b[1;33m(\u001b[0m\u001b[0mhtml\u001b[0m\u001b[1;33m,\u001b[0m \u001b[1;34m'html.parser'\u001b[0m\u001b[1;33m)\u001b[0m\u001b[1;33m\u001b[0m\u001b[1;33m\u001b[0m\u001b[0m\n",
      "\u001b[1;31mNameError\u001b[0m: name 'browser' is not defined"
     ]
    }
   ],
   "source": [
    "html = browser.html\n",
    "soup = BeautifulSoup(html, 'html.parser')\n",
    "uls=soup.find_all('ul', class_='srp-list-marginless')\n",
    "house_url_list=[]\n",
    "for li in uls:\n",
    "    house_url=li.find('a')['href']\n",
    "    card_box=li.find('div',class_='card-box')\n",
    "    house_price=(card_box.find('span',class_='data-price')).text\n",
    "    house_sqft=(card_box.find('li',class_='data-value')).text\n",
    "    street_address=(card_box.find('span', class_='listing-street-address')).text.strip()\n",
    "    city=(card_box.find('span', class_='listing-city')).text\n",
    "    state=(card_box.find('span', class_='listing-region')).text\n",
    "    zipcode=(card_box.find('span', class_='listing-postal')).text\n",
    "    house_url_list.append(house_url)\n",
    "  \n",
    "    print(\"https://www.realtor.com/\"+house_url)\n",
    "    print(house_price)\n",
    "    print(house_sqft)\n",
    "    print(street_address)\n",
    "    print(city)\n",
    "    print(state)\n",
    "    print(zipcode)\n"
   ]
  },
  {
   "cell_type": "code",
   "execution_count": null,
   "metadata": {},
   "outputs": [],
   "source": [
    "\n",
    " "
   ]
  },
  {
   "cell_type": "code",
   "execution_count": null,
   "metadata": {},
   "outputs": [],
   "source": [
    " "
   ]
  }
 ],
 "metadata": {
  "kernelspec": {
   "display_name": "Python [conda env:PythonData] *",
   "language": "python",
   "name": "conda-env-PythonData-py"
  },
  "language_info": {
   "codemirror_mode": {
    "name": "ipython",
    "version": 3
   },
   "file_extension": ".py",
   "mimetype": "text/x-python",
   "name": "python",
   "nbconvert_exporter": "python",
   "pygments_lexer": "ipython3",
   "version": "3.6.8"
  }
 },
 "nbformat": 4,
 "nbformat_minor": 2
}
