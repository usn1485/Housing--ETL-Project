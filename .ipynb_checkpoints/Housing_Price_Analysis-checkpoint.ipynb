{
 "cells": [
  {
   "cell_type": "code",
   "execution_count": 2,
   "metadata": {},
   "outputs": [],
   "source": [
    "from splinter import Browser\n",
    "from splinter.exceptions import ElementDoesNotExist\n",
    "from bs4 import BeautifulSoup"
   ]
  },
  {
   "cell_type": "code",
   "execution_count": 3,
   "metadata": {},
   "outputs": [],
   "source": [
    "executable_path = {'executable_path': 'chromedriver.exe'}\n",
    "browser = Browser('chrome', **executable_path, headless=False)"
   ]
  },
  {
   "cell_type": "code",
   "execution_count": 4,
   "metadata": {},
   "outputs": [],
   "source": [
    "url=\"https://www.realtor.com/realestateandhomes-search/Chesterfield_MO\"\n",
    "browser.visit(url)"
   ]
  },
  {
   "cell_type": "code",
   "execution_count": null,
   "metadata": {},
   "outputs": [],
   "source": []
  },
  {
   "cell_type": "code",
   "execution_count": 5,
   "metadata": {},
   "outputs": [],
   "source": [
    "html = browser.html\n",
    "soup = BeautifulSoup(html, 'html.parser')\n",
    "uls=soup.find_all('ul', class_='srp-list-marginless')\n",
    "house_url_list=[]\n",
    "for li in uls:\n",
    "    house_url=li.find('a')['href']\n",
    "    card_box=li.find('div',class_='card-box')\n",
    "    house_price=(card_box.find('span',class_='data-price')).text\n",
    "    house_sqft=(card_box.find('li',class_='data-value')).text\n",
    "    street_address=(card_box.find('span', class_='listing-street-address')).text.strip()\n",
    "    city=(card_box.find('span', class_='listing-city')).text\n",
    "    state=(card_box.find('span', class_='listing-region')).text\n",
    "    zipcode=(card_box.find('span', class_='listing-postal')).text\n",
    "    house_url_list.append(house_url)\n",
    "  \n",
    "    print(\"https://www.realtor.com/\"+house_url)\n",
    "    print(house_price)\n",
    "    print(house_sqft)\n",
    "    print(street_address)\n",
    "    print(city)\n",
    "    print(state)\n",
    "    print(zipcode)"
   ]
  },
  {
   "cell_type": "code",
   "execution_count": null,
   "metadata": {},
   "outputs": [],
   "source": [
    "\n",
    " "
   ]
  },
  {
   "cell_type": "code",
   "execution_count": null,
   "metadata": {},
   "outputs": [],
   "source": [
    " "
   ]
  }
 ],
 "metadata": {
  "kernelspec": {
   "display_name": "Python [conda env:PythonData] *",
   "language": "python",
   "name": "conda-env-PythonData-py"
  },
  "language_info": {
   "codemirror_mode": {
    "name": "ipython",
    "version": 3
   },
   "file_extension": ".py",
   "mimetype": "text/x-python",
   "name": "python",
   "nbconvert_exporter": "python",
   "pygments_lexer": "ipython3",
   "version": "3.6.8"
  }
 },
 "nbformat": 4,
 "nbformat_minor": 2
}
